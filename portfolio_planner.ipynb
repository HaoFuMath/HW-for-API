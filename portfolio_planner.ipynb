{
 "cells": [
  {
   "cell_type": "markdown",
   "metadata": {},
   "source": [
    "# Retirement Planner\n",
    "\n",
    "---\n",
    "\n",
    "## Environment Setup"
   ]
  },
  {
   "cell_type": "code",
   "execution_count": 1,
   "metadata": {},
   "outputs": [],
   "source": [
    "# Import libraries and dependencies\n",
    "import numpy as np\n",
    "import pandas as pd\n",
    "import os\n",
    "from datetime import datetime, timedelta\n",
    "import matplotlib.pyplot as plt\n",
    "import alpaca_trade_api as tradeapi\n",
    "%matplotlib inline"
   ]
  },
  {
   "cell_type": "code",
   "execution_count": 2,
   "metadata": {},
   "outputs": [],
   "source": [
    "# Set the random seed for resutls reproducibility (for testing purposes only)\n",
    "np.random.seed(42)"
   ]
  },
  {
   "cell_type": "markdown",
   "metadata": {},
   "source": [
    "---\n",
    "\n",
    "## Portfolio Planner\n",
    "\n",
    "In this activity, you will use the Alpaca API to grab historical data for a `60/40` portfolio using `SPY` to represent the stock portion and `AGG` to represent the bonds."
   ]
  },
  {
   "cell_type": "code",
   "execution_count": 2,
   "metadata": {},
   "outputs": [],
   "source": [
    "# Load .env enviroment variables\n",
    "from dotenv import load_dotenv\n",
    "load_dotenv()\n",
    "\n",
    "# Set Alpaca API key and secret\n",
    "alpaca_api_key = os.getenv(\"ALPACA_API_KEY\")\n",
    "alpaca_secret_key = os.getenv(\"ALPACA_SECRET_KEY\")\n",
    "\n",
    "# Create the Alpaca API object\n",
    "api = tradeapi.REST(\n",
    "    alpaca_api_key,\n",
    "    alpaca_secret_key,\n",
    "    api_version=\"v2\")"
   ]
  },
  {
   "cell_type": "code",
   "execution_count": 3,
   "metadata": {},
   "outputs": [
    {
     "data": {
      "text/plain": [
       "'PKMR85BRJ9DN60WKDTFQ'"
      ]
     },
     "execution_count": 3,
     "metadata": {},
     "output_type": "execute_result"
    }
   ],
   "source": [
    "alpaca_api_key"
   ]
  },
  {
   "cell_type": "markdown",
   "metadata": {},
   "source": [
    "# Data Collection\n",
    "\n",
    "In this step, you will need to use the Alpaca api to fetch closing prices for the `SPY` and `AGG` tickers. Save the results as a pandas DataFrame"
   ]
  },
  {
   "cell_type": "code",
   "execution_count": 5,
   "metadata": {},
   "outputs": [],
   "source": [
    "# Subset your tickers, then pull returns data:\n",
    "# Set the ticker\n",
    "ticker = [\"SPY\", \"AGG\"]\n",
    "\n",
    "# Set timeframe to '1D'\n",
    "timeframe = \"1D\"\n",
    "\n",
    "# Set start and end datetimes of 1 year, between now and 365 days ago.\n",
    "start_date = pd.Timestamp('2019-01-01', tz='America/New_York').isoformat()\n",
    "end_date = pd.Timestamp('2019-12-31', tz='America/New_York').isoformat()\n",
    "\n",
    "# Get 1 year's worth of historical data for SPY and AGG\n",
    "df = api.get_barset(\n",
    "    ticker,\n",
    "    timeframe,\n",
    "    limit=None,\n",
    "    start=start_date,\n",
    "    end=end_date,\n",
    "    after=None,\n",
    "    until=None,\n",
    ").df\n",
    "\n",
    "# Drop unnecessary columns\n",
    "df = df.drop(\n",
    "    columns=['open', 'high', 'low', 'volume'],\n",
    "    level=1\n",
    ")"
   ]
  },
  {
   "cell_type": "code",
   "execution_count": 6,
   "metadata": {},
   "outputs": [
    {
     "data": {
      "text/html": [
       "<div>\n",
       "<style scoped>\n",
       "    .dataframe tbody tr th:only-of-type {\n",
       "        vertical-align: middle;\n",
       "    }\n",
       "\n",
       "    .dataframe tbody tr th {\n",
       "        vertical-align: top;\n",
       "    }\n",
       "\n",
       "    .dataframe thead tr th {\n",
       "        text-align: left;\n",
       "    }\n",
       "</style>\n",
       "<table border=\"1\" class=\"dataframe\">\n",
       "  <thead>\n",
       "    <tr>\n",
       "      <th></th>\n",
       "      <th>AGG</th>\n",
       "      <th>SPY</th>\n",
       "    </tr>\n",
       "    <tr>\n",
       "      <th></th>\n",
       "      <th>close</th>\n",
       "      <th>close</th>\n",
       "    </tr>\n",
       "  </thead>\n",
       "  <tbody>\n",
       "    <tr>\n",
       "      <th>2019-01-02 00:00:00-05:00</th>\n",
       "      <td>106.585</td>\n",
       "      <td>249.89</td>\n",
       "    </tr>\n",
       "    <tr>\n",
       "      <th>2019-01-03 00:00:00-05:00</th>\n",
       "      <td>107.020</td>\n",
       "      <td>244.46</td>\n",
       "    </tr>\n",
       "    <tr>\n",
       "      <th>2019-01-04 00:00:00-05:00</th>\n",
       "      <td>106.695</td>\n",
       "      <td>252.41</td>\n",
       "    </tr>\n",
       "    <tr>\n",
       "      <th>2019-01-07 00:00:00-05:00</th>\n",
       "      <td>106.470</td>\n",
       "      <td>254.40</td>\n",
       "    </tr>\n",
       "    <tr>\n",
       "      <th>2019-01-08 00:00:00-05:00</th>\n",
       "      <td>106.420</td>\n",
       "      <td>256.65</td>\n",
       "    </tr>\n",
       "  </tbody>\n",
       "</table>\n",
       "</div>"
      ],
      "text/plain": [
       "                               AGG     SPY\n",
       "                             close   close\n",
       "2019-01-02 00:00:00-05:00  106.585  249.89\n",
       "2019-01-03 00:00:00-05:00  107.020  244.46\n",
       "2019-01-04 00:00:00-05:00  106.695  252.41\n",
       "2019-01-07 00:00:00-05:00  106.470  254.40\n",
       "2019-01-08 00:00:00-05:00  106.420  256.65"
      ]
     },
     "execution_count": 6,
     "metadata": {},
     "output_type": "execute_result"
    }
   ],
   "source": [
    "# Display sample data\n",
    "df.head()"
   ]
  },
  {
   "cell_type": "markdown",
   "metadata": {},
   "source": [
    "---\n",
    "\n",
    "## Monte Carlo Simulation\n",
    "\n",
    "In this step, you will run Monte Carlo Simulations for your portfolio to model portfolio performance at different retirement ages. \n",
    "\n",
    "Complete the following steps:\n",
    "\n",
    "1. Calculate the daily returns for the SPY and AGG closing prices.\n",
    "\n",
    "2. Calculate volatility for both the SPY and AGG closing prices.\n",
    "\n",
    "3. Find the last day's closing price for both stocks and save those as variables\n",
    "\n",
    "4. Run a Monte Carlo Simulation of at least `100` iterations and generate at least `30` years of closing prices\n",
    "\n",
    "**Hint:** There are `252` trading days per year, so the number of records to generate for each Monte Carlo run will be `252 days * 30 years`."
   ]
  },
  {
   "cell_type": "code",
   "execution_count": 7,
   "metadata": {},
   "outputs": [],
   "source": [
    "# Calculate the daily roi for the stocks\n",
    "spy_return = df.SPY.close.pct_change()\n",
    "agg_return = df.AGG.close.pct_change()\n",
    "# Display sample data\n",
    "spy_return.columns = ['Daily_return']\n",
    "agg_return.columns = ['Daily_return']"
   ]
  },
  {
   "cell_type": "code",
   "execution_count": 8,
   "metadata": {},
   "outputs": [
    {
     "data": {
      "text/html": [
       "<div>\n",
       "<style scoped>\n",
       "    .dataframe tbody tr th:only-of-type {\n",
       "        vertical-align: middle;\n",
       "    }\n",
       "\n",
       "    .dataframe tbody tr th {\n",
       "        vertical-align: top;\n",
       "    }\n",
       "\n",
       "    .dataframe thead th {\n",
       "        text-align: right;\n",
       "    }\n",
       "</style>\n",
       "<table border=\"1\" class=\"dataframe\">\n",
       "  <thead>\n",
       "    <tr style=\"text-align: right;\">\n",
       "      <th></th>\n",
       "      <th>spy_return</th>\n",
       "      <th>agg_return</th>\n",
       "    </tr>\n",
       "  </thead>\n",
       "  <tbody>\n",
       "    <tr>\n",
       "      <th>2019-01-02 00:00:00-05:00</th>\n",
       "      <td>NaN</td>\n",
       "      <td>NaN</td>\n",
       "    </tr>\n",
       "    <tr>\n",
       "      <th>2019-01-03 00:00:00-05:00</th>\n",
       "      <td>-0.021730</td>\n",
       "      <td>0.004081</td>\n",
       "    </tr>\n",
       "    <tr>\n",
       "      <th>2019-01-04 00:00:00-05:00</th>\n",
       "      <td>0.032521</td>\n",
       "      <td>-0.003037</td>\n",
       "    </tr>\n",
       "    <tr>\n",
       "      <th>2019-01-07 00:00:00-05:00</th>\n",
       "      <td>0.007884</td>\n",
       "      <td>-0.002109</td>\n",
       "    </tr>\n",
       "    <tr>\n",
       "      <th>2019-01-08 00:00:00-05:00</th>\n",
       "      <td>0.008844</td>\n",
       "      <td>-0.000470</td>\n",
       "    </tr>\n",
       "  </tbody>\n",
       "</table>\n",
       "</div>"
      ],
      "text/plain": [
       "                           spy_return  agg_return\n",
       "2019-01-02 00:00:00-05:00         NaN         NaN\n",
       "2019-01-03 00:00:00-05:00   -0.021730    0.004081\n",
       "2019-01-04 00:00:00-05:00    0.032521   -0.003037\n",
       "2019-01-07 00:00:00-05:00    0.007884   -0.002109\n",
       "2019-01-08 00:00:00-05:00    0.008844   -0.000470"
      ]
     },
     "execution_count": 8,
     "metadata": {},
     "output_type": "execute_result"
    }
   ],
   "source": [
    "#portfolio construction\n",
    "ret = pd.DataFrame({\"spy_return\":spy_return,\"agg_return\":agg_return})\n",
    "ret.head()\n"
   ]
  },
  {
   "cell_type": "code",
   "execution_count": 9,
   "metadata": {},
   "outputs": [
    {
     "data": {
      "text/plain": [
       "2019-01-02 00:00:00-05:00         NaN\n",
       "2019-01-03 00:00:00-05:00   -0.011405\n",
       "2019-01-04 00:00:00-05:00    0.018298\n",
       "2019-01-07 00:00:00-05:00    0.003887\n",
       "2019-01-08 00:00:00-05:00    0.005119\n",
       "dtype: float64"
      ]
     },
     "execution_count": 9,
     "metadata": {},
     "output_type": "execute_result"
    }
   ],
   "source": [
    "weights = [0.6, 0.4]\n",
    "portfolio_returns = ret.dot(weights)\n",
    "portfolio_returns.head()"
   ]
  },
  {
   "cell_type": "code",
   "execution_count": 10,
   "metadata": {},
   "outputs": [
    {
     "name": "stdout",
     "output_type": "stream",
     "text": [
      "0.0007091839668238741\n"
     ]
    }
   ],
   "source": [
    "# Calculate the average roi for the portfolio\n",
    "\n",
    "avg = portfolio_returns.mean()\n",
    "print(avg)"
   ]
  },
  {
   "cell_type": "code",
   "execution_count": 11,
   "metadata": {},
   "outputs": [
    {
     "name": "stdout",
     "output_type": "stream",
     "text": [
      "0.004492130504900981\n"
     ]
    }
   ],
   "source": [
    "# Compute daily volatility\n",
    "vol = portfolio_returns.std()\n",
    "\n",
    "print(vol)\n"
   ]
  },
  {
   "cell_type": "code",
   "execution_count": 20,
   "metadata": {},
   "outputs": [],
   "source": [
    "# Save the last day's closing price\n",
    "#spy_last_price = df.SPY.close[-1]\n",
    "#agg_last_price = df.AGG.close[-1]\n",
    "#port_last_price = spy_last_price*0.6 + agg_last_price*0.4\n",
    "#print(port_last_price)"
   ]
  },
  {
   "cell_type": "code",
   "execution_count": 23,
   "metadata": {},
   "outputs": [
    {
     "data": {
      "text/html": [
       "<div>\n",
       "<style scoped>\n",
       "    .dataframe tbody tr th:only-of-type {\n",
       "        vertical-align: middle;\n",
       "    }\n",
       "\n",
       "    .dataframe tbody tr th {\n",
       "        vertical-align: top;\n",
       "    }\n",
       "\n",
       "    .dataframe thead th {\n",
       "        text-align: right;\n",
       "    }\n",
       "</style>\n",
       "<table border=\"1\" class=\"dataframe\">\n",
       "  <thead>\n",
       "    <tr style=\"text-align: right;\">\n",
       "      <th></th>\n",
       "      <th>0th simulation</th>\n",
       "      <th>1th simulation</th>\n",
       "      <th>2th simulation</th>\n",
       "      <th>3th simulation</th>\n",
       "      <th>4th simulation</th>\n",
       "      <th>5th simulation</th>\n",
       "      <th>6th simulation</th>\n",
       "      <th>7th simulation</th>\n",
       "      <th>8th simulation</th>\n",
       "      <th>9th simulation</th>\n",
       "      <th>...</th>\n",
       "      <th>490th simulation</th>\n",
       "      <th>491th simulation</th>\n",
       "      <th>492th simulation</th>\n",
       "      <th>493th simulation</th>\n",
       "      <th>494th simulation</th>\n",
       "      <th>495th simulation</th>\n",
       "      <th>496th simulation</th>\n",
       "      <th>497th simulation</th>\n",
       "      <th>498th simulation</th>\n",
       "      <th>499th simulation</th>\n",
       "    </tr>\n",
       "  </thead>\n",
       "  <tbody>\n",
       "    <tr>\n",
       "      <th>0</th>\n",
       "      <td>1.000000</td>\n",
       "      <td>1.000000</td>\n",
       "      <td>1.000000</td>\n",
       "      <td>1.000000</td>\n",
       "      <td>1.000000</td>\n",
       "      <td>1.000000</td>\n",
       "      <td>1.000000</td>\n",
       "      <td>1.000000</td>\n",
       "      <td>1.000000</td>\n",
       "      <td>1.000000</td>\n",
       "      <td>...</td>\n",
       "      <td>1.000000</td>\n",
       "      <td>1.000000</td>\n",
       "      <td>1.000000</td>\n",
       "      <td>1.000000</td>\n",
       "      <td>1.000000</td>\n",
       "      <td>1.000000</td>\n",
       "      <td>1.000000</td>\n",
       "      <td>1.000000</td>\n",
       "      <td>1.000000</td>\n",
       "      <td>1.000000</td>\n",
       "    </tr>\n",
       "    <tr>\n",
       "      <th>1</th>\n",
       "      <td>1.000030</td>\n",
       "      <td>1.004716</td>\n",
       "      <td>1.005665</td>\n",
       "      <td>1.003348</td>\n",
       "      <td>0.998903</td>\n",
       "      <td>0.995854</td>\n",
       "      <td>0.999951</td>\n",
       "      <td>0.995802</td>\n",
       "      <td>0.998150</td>\n",
       "      <td>0.997383</td>\n",
       "      <td>...</td>\n",
       "      <td>1.002273</td>\n",
       "      <td>1.000250</td>\n",
       "      <td>1.012091</td>\n",
       "      <td>0.998258</td>\n",
       "      <td>1.001793</td>\n",
       "      <td>1.012072</td>\n",
       "      <td>0.998417</td>\n",
       "      <td>1.002991</td>\n",
       "      <td>0.998095</td>\n",
       "      <td>1.002981</td>\n",
       "    </tr>\n",
       "    <tr>\n",
       "      <th>2</th>\n",
       "      <td>1.001705</td>\n",
       "      <td>1.007674</td>\n",
       "      <td>1.010667</td>\n",
       "      <td>1.007778</td>\n",
       "      <td>1.008331</td>\n",
       "      <td>0.992872</td>\n",
       "      <td>1.000967</td>\n",
       "      <td>0.999027</td>\n",
       "      <td>0.997276</td>\n",
       "      <td>0.996817</td>\n",
       "      <td>...</td>\n",
       "      <td>0.998910</td>\n",
       "      <td>0.994913</td>\n",
       "      <td>1.017611</td>\n",
       "      <td>0.993882</td>\n",
       "      <td>1.003920</td>\n",
       "      <td>1.016533</td>\n",
       "      <td>0.993470</td>\n",
       "      <td>1.006885</td>\n",
       "      <td>0.995742</td>\n",
       "      <td>1.002304</td>\n",
       "    </tr>\n",
       "    <tr>\n",
       "      <th>3</th>\n",
       "      <td>1.001289</td>\n",
       "      <td>1.007498</td>\n",
       "      <td>1.014191</td>\n",
       "      <td>1.013520</td>\n",
       "      <td>1.008887</td>\n",
       "      <td>0.993377</td>\n",
       "      <td>1.006041</td>\n",
       "      <td>0.998361</td>\n",
       "      <td>0.996204</td>\n",
       "      <td>0.991525</td>\n",
       "      <td>...</td>\n",
       "      <td>0.999877</td>\n",
       "      <td>0.985648</td>\n",
       "      <td>1.018050</td>\n",
       "      <td>0.993211</td>\n",
       "      <td>1.008591</td>\n",
       "      <td>1.015805</td>\n",
       "      <td>0.999473</td>\n",
       "      <td>1.004862</td>\n",
       "      <td>0.995763</td>\n",
       "      <td>1.009738</td>\n",
       "    </tr>\n",
       "    <tr>\n",
       "      <th>4</th>\n",
       "      <td>0.994351</td>\n",
       "      <td>1.007365</td>\n",
       "      <td>1.012736</td>\n",
       "      <td>1.019640</td>\n",
       "      <td>1.005111</td>\n",
       "      <td>0.996793</td>\n",
       "      <td>1.010751</td>\n",
       "      <td>0.990614</td>\n",
       "      <td>0.995179</td>\n",
       "      <td>0.995182</td>\n",
       "      <td>...</td>\n",
       "      <td>0.993283</td>\n",
       "      <td>0.984766</td>\n",
       "      <td>1.024137</td>\n",
       "      <td>0.992167</td>\n",
       "      <td>1.006319</td>\n",
       "      <td>1.023792</td>\n",
       "      <td>0.999116</td>\n",
       "      <td>1.006541</td>\n",
       "      <td>1.007276</td>\n",
       "      <td>1.013248</td>\n",
       "    </tr>\n",
       "  </tbody>\n",
       "</table>\n",
       "<p>5 rows × 500 columns</p>\n",
       "</div>"
      ],
      "text/plain": [
       "   0th simulation  1th simulation  2th simulation  3th simulation  \\\n",
       "0        1.000000        1.000000        1.000000        1.000000   \n",
       "1        1.000030        1.004716        1.005665        1.003348   \n",
       "2        1.001705        1.007674        1.010667        1.007778   \n",
       "3        1.001289        1.007498        1.014191        1.013520   \n",
       "4        0.994351        1.007365        1.012736        1.019640   \n",
       "\n",
       "   4th simulation  5th simulation  6th simulation  7th simulation  \\\n",
       "0        1.000000        1.000000        1.000000        1.000000   \n",
       "1        0.998903        0.995854        0.999951        0.995802   \n",
       "2        1.008331        0.992872        1.000967        0.999027   \n",
       "3        1.008887        0.993377        1.006041        0.998361   \n",
       "4        1.005111        0.996793        1.010751        0.990614   \n",
       "\n",
       "   8th simulation  9th simulation  ...  490th simulation  491th simulation  \\\n",
       "0        1.000000        1.000000  ...          1.000000          1.000000   \n",
       "1        0.998150        0.997383  ...          1.002273          1.000250   \n",
       "2        0.997276        0.996817  ...          0.998910          0.994913   \n",
       "3        0.996204        0.991525  ...          0.999877          0.985648   \n",
       "4        0.995179        0.995182  ...          0.993283          0.984766   \n",
       "\n",
       "   492th simulation  493th simulation  494th simulation  495th simulation  \\\n",
       "0          1.000000          1.000000          1.000000          1.000000   \n",
       "1          1.012091          0.998258          1.001793          1.012072   \n",
       "2          1.017611          0.993882          1.003920          1.016533   \n",
       "3          1.018050          0.993211          1.008591          1.015805   \n",
       "4          1.024137          0.992167          1.006319          1.023792   \n",
       "\n",
       "   496th simulation  497th simulation  498th simulation  499th simulation  \n",
       "0          1.000000          1.000000          1.000000          1.000000  \n",
       "1          0.998417          1.002991          0.998095          1.002981  \n",
       "2          0.993470          1.006885          0.995742          1.002304  \n",
       "3          0.999473          1.004862          0.995763          1.009738  \n",
       "4          0.999116          1.006541          1.007276          1.013248  \n",
       "\n",
       "[5 rows x 500 columns]"
      ]
     },
     "execution_count": 23,
     "metadata": {},
     "output_type": "execute_result"
    }
   ],
   "source": [
    "num_trading_days = 252*30\n",
    "number_simulations = 500\n",
    "monte_carlo = pd.DataFrame()\n",
    "\n",
    "for j in range(number_simulations):\n",
    "    simulated_prices = [1]\n",
    "    for i in range(num_trading_days):\n",
    "        simulated_price = simulated_prices[-1] * (1 + np.random.normal(avg, vol))\n",
    "        simulated_prices.append(simulated_price)\n",
    "    \n",
    "# Create a DataFrame of the simulated prices\n",
    "    name = f\"{j}th simulation\"\n",
    "    monte_carlo[name] = pd.Series(simulated_prices)\n",
    "\n",
    "# Print head of DataFrame\n",
    "monte_carlo.head()"
   ]
  },
  {
   "cell_type": "code",
   "execution_count": 24,
   "metadata": {},
   "outputs": [
    {
     "data": {
      "text/plain": [
       "<matplotlib.axes._subplots.AxesSubplot at 0x7fb5a8492d90>"
      ]
     },
     "execution_count": 24,
     "metadata": {},
     "output_type": "execute_result"
    },
    {
     "data": {
      "image/png": "[encoded data removed]",
      "text/plain": [
       "<Figure size 864x576 with 1 Axes>"
      ]
     },
     "metadata": {
      "needs_background": "light"
     },
     "output_type": "display_data"
    }
   ],
   "source": [
    "monte_carlo.plot(legend = False,figsize = (12,8))"
   ]
  },
  {
   "cell_type": "code",
   "execution_count": 29,
   "metadata": {},
   "outputs": [
    {
     "data": {
      "text/html": [
       "<div>\n",
       "<style scoped>\n",
       "    .dataframe tbody tr th:only-of-type {\n",
       "        vertical-align: middle;\n",
       "    }\n",
       "\n",
       "    .dataframe tbody tr th {\n",
       "        vertical-align: top;\n",
       "    }\n",
       "\n",
       "    .dataframe thead th {\n",
       "        text-align: right;\n",
       "    }\n",
       "</style>\n",
       "<table border=\"1\" class=\"dataframe\">\n",
       "  <thead>\n",
       "    <tr style=\"text-align: right;\">\n",
       "      <th></th>\n",
       "      <th>0th simulation</th>\n",
       "      <th>1th simulation</th>\n",
       "      <th>2th simulation</th>\n",
       "      <th>3th simulation</th>\n",
       "      <th>4th simulation</th>\n",
       "      <th>5th simulation</th>\n",
       "      <th>6th simulation</th>\n",
       "      <th>7th simulation</th>\n",
       "      <th>8th simulation</th>\n",
       "      <th>9th simulation</th>\n",
       "      <th>...</th>\n",
       "      <th>490th simulation</th>\n",
       "      <th>491th simulation</th>\n",
       "      <th>492th simulation</th>\n",
       "      <th>493th simulation</th>\n",
       "      <th>494th simulation</th>\n",
       "      <th>495th simulation</th>\n",
       "      <th>496th simulation</th>\n",
       "      <th>497th simulation</th>\n",
       "      <th>498th simulation</th>\n",
       "      <th>499th simulation</th>\n",
       "    </tr>\n",
       "  </thead>\n",
       "  <tbody>\n",
       "    <tr>\n",
       "      <th>7556</th>\n",
       "      <td>210.108450</td>\n",
       "      <td>275.852555</td>\n",
       "      <td>247.684361</td>\n",
       "      <td>227.348915</td>\n",
       "      <td>182.292302</td>\n",
       "      <td>470.299550</td>\n",
       "      <td>101.392410</td>\n",
       "      <td>87.985930</td>\n",
       "      <td>258.668473</td>\n",
       "      <td>203.555061</td>\n",
       "      <td>...</td>\n",
       "      <td>327.006453</td>\n",
       "      <td>232.879548</td>\n",
       "      <td>176.325234</td>\n",
       "      <td>195.379558</td>\n",
       "      <td>247.097252</td>\n",
       "      <td>203.506049</td>\n",
       "      <td>146.783646</td>\n",
       "      <td>182.805178</td>\n",
       "      <td>176.773299</td>\n",
       "      <td>222.545118</td>\n",
       "    </tr>\n",
       "    <tr>\n",
       "      <th>7557</th>\n",
       "      <td>209.649332</td>\n",
       "      <td>276.414056</td>\n",
       "      <td>249.267971</td>\n",
       "      <td>228.174045</td>\n",
       "      <td>182.103444</td>\n",
       "      <td>471.250199</td>\n",
       "      <td>100.512099</td>\n",
       "      <td>88.172659</td>\n",
       "      <td>260.079386</td>\n",
       "      <td>201.590127</td>\n",
       "      <td>...</td>\n",
       "      <td>327.163874</td>\n",
       "      <td>233.246451</td>\n",
       "      <td>177.859760</td>\n",
       "      <td>196.752417</td>\n",
       "      <td>245.491324</td>\n",
       "      <td>203.915410</td>\n",
       "      <td>147.917395</td>\n",
       "      <td>182.998632</td>\n",
       "      <td>176.503906</td>\n",
       "      <td>223.083748</td>\n",
       "    </tr>\n",
       "    <tr>\n",
       "      <th>7558</th>\n",
       "      <td>209.988578</td>\n",
       "      <td>275.250148</td>\n",
       "      <td>247.340941</td>\n",
       "      <td>228.924936</td>\n",
       "      <td>182.309148</td>\n",
       "      <td>470.339911</td>\n",
       "      <td>100.442004</td>\n",
       "      <td>88.929663</td>\n",
       "      <td>260.604264</td>\n",
       "      <td>201.497770</td>\n",
       "      <td>...</td>\n",
       "      <td>327.469339</td>\n",
       "      <td>234.073497</td>\n",
       "      <td>177.847730</td>\n",
       "      <td>196.986312</td>\n",
       "      <td>245.534331</td>\n",
       "      <td>206.248727</td>\n",
       "      <td>148.234457</td>\n",
       "      <td>183.977105</td>\n",
       "      <td>177.171028</td>\n",
       "      <td>224.569699</td>\n",
       "    </tr>\n",
       "    <tr>\n",
       "      <th>7559</th>\n",
       "      <td>210.050121</td>\n",
       "      <td>275.769822</td>\n",
       "      <td>248.642723</td>\n",
       "      <td>229.354127</td>\n",
       "      <td>182.297557</td>\n",
       "      <td>470.291936</td>\n",
       "      <td>100.513501</td>\n",
       "      <td>88.960545</td>\n",
       "      <td>261.787332</td>\n",
       "      <td>200.312027</td>\n",
       "      <td>...</td>\n",
       "      <td>329.169536</td>\n",
       "      <td>234.107922</td>\n",
       "      <td>178.814292</td>\n",
       "      <td>195.602056</td>\n",
       "      <td>243.658464</td>\n",
       "      <td>205.385618</td>\n",
       "      <td>148.293805</td>\n",
       "      <td>185.048392</td>\n",
       "      <td>177.699721</td>\n",
       "      <td>225.601363</td>\n",
       "    </tr>\n",
       "    <tr>\n",
       "      <th>7560</th>\n",
       "      <td>210.715127</td>\n",
       "      <td>276.666627</td>\n",
       "      <td>246.235413</td>\n",
       "      <td>230.633740</td>\n",
       "      <td>183.061043</td>\n",
       "      <td>471.880539</td>\n",
       "      <td>100.388813</td>\n",
       "      <td>88.420266</td>\n",
       "      <td>262.597736</td>\n",
       "      <td>201.130020</td>\n",
       "      <td>...</td>\n",
       "      <td>328.269681</td>\n",
       "      <td>232.216716</td>\n",
       "      <td>179.007901</td>\n",
       "      <td>195.966418</td>\n",
       "      <td>244.830864</td>\n",
       "      <td>204.473858</td>\n",
       "      <td>147.407538</td>\n",
       "      <td>185.035288</td>\n",
       "      <td>176.982839</td>\n",
       "      <td>223.707188</td>\n",
       "    </tr>\n",
       "  </tbody>\n",
       "</table>\n",
       "<p>5 rows × 500 columns</p>\n",
       "</div>"
      ],
      "text/plain": [
       "      0th simulation  1th simulation  2th simulation  3th simulation  \\\n",
       "7556      210.108450      275.852555      247.684361      227.348915   \n",
       "7557      209.649332      276.414056      249.267971      228.174045   \n",
       "7558      209.988578      275.250148      247.340941      228.924936   \n",
       "7559      210.050121      275.769822      248.642723      229.354127   \n",
       "7560      210.715127      276.666627      246.235413      230.633740   \n",
       "\n",
       "      4th simulation  5th simulation  6th simulation  7th simulation  \\\n",
       "7556      182.292302      470.299550      101.392410       87.985930   \n",
       "7557      182.103444      471.250199      100.512099       88.172659   \n",
       "7558      182.309148      470.339911      100.442004       88.929663   \n",
       "7559      182.297557      470.291936      100.513501       88.960545   \n",
       "7560      183.061043      471.880539      100.388813       88.420266   \n",
       "\n",
       "      8th simulation  9th simulation  ...  490th simulation  491th simulation  \\\n",
       "7556      258.668473      203.555061  ...        327.006453        232.879548   \n",
       "7557      260.079386      201.590127  ...        327.163874        233.246451   \n",
       "7558      260.604264      201.497770  ...        327.469339        234.073497   \n",
       "7559      261.787332      200.312027  ...        329.169536        234.107922   \n",
       "7560      262.597736      201.130020  ...        328.269681        232.216716   \n",
       "\n",
       "      492th simulation  493th simulation  494th simulation  495th simulation  \\\n",
       "7556        176.325234        195.379558        247.097252        203.506049   \n",
       "7557        177.859760        196.752417        245.491324        203.915410   \n",
       "7558        177.847730        196.986312        245.534331        206.248727   \n",
       "7559        178.814292        195.602056        243.658464        205.385618   \n",
       "7560        179.007901        195.966418        244.830864        204.473858   \n",
       "\n",
       "      496th simulation  497th simulation  498th simulation  499th simulation  \n",
       "7556        146.783646        182.805178        176.773299        222.545118  \n",
       "7557        147.917395        182.998632        176.503906        223.083748  \n",
       "7558        148.234457        183.977105        177.171028        224.569699  \n",
       "7559        148.293805        185.048392        177.699721        225.601363  \n",
       "7560        147.407538        185.035288        176.982839        223.707188  \n",
       "\n",
       "[5 rows x 500 columns]"
      ]
     },
     "execution_count": 29,
     "metadata": {},
     "output_type": "execute_result"
    }
   ],
   "source": [
    "monte_carlo.tail()"
   ]
  },
  {
   "cell_type": "code",
   "execution_count": 28,
   "metadata": {},
   "outputs": [
    {
     "data": {
      "text/plain": [
       "<matplotlib.lines.Line2D at 0x7fb5997a2050>"
      ]
     },
     "execution_count": 28,
     "metadata": {},
     "output_type": "execute_result"
    },
    {
     "data": {
      "image/png": "[encoded data removed]",
      "text/plain": [
       "<Figure size 432x288 with 1 Axes>"
      ]
     },
     "metadata": {
      "needs_background": "light"
     },
     "output_type": "display_data"
    }
   ],
   "source": [
    "# Visualize the distribution of the ending returns\n",
    "last_ret = monte_carlo.iloc[-1]\n",
    "con_int = last_ret.quantile(q = (0.05,0.95))\n",
    "plt.figure()\n",
    "last_ret.plot.hist( title=\"90% confidence interval\")\n",
    "plt.axvline(con_int.iloc[0], color='r')\n",
    "plt.axvline(con_int.iloc[1], color='r')"
   ]
  },
  {
   "cell_type": "markdown",
   "metadata": {},
   "source": [
    "---"
   ]
  },
  {
   "cell_type": "markdown",
   "metadata": {},
   "source": [
    "## Retirement Analysis\n",
    "\n",
    "In this section, you will use the monte carlo model to answer the following retirement planning questions:\n",
    "\n",
    "1. What are the expected cumulative returns at `30` years for the `10th`, `50th`, and `90th` percentiles?\n",
    "\n",
    "2. Given an initial investment of `$20,000`, what is the expected return in dollars at the `10th`, `50th`, and `90th` percentiles?\n",
    "\n",
    "3. Given the current projected annual income from the Plaid analysis, will a `4%` withdrawal rate meet or exceed that value at the `10th` percentile? Note: This is basically determining if retirement income is equivalent to current income.\n",
    "\n",
    "4. How would a `50%` increase in the initial investment amount affect the `4%` retirement withdrawal? In other words, what happens if the initial investment had been bigger?"
   ]
  },
  {
   "cell_type": "markdown",
   "metadata": {},
   "source": [
    "### What are the expected cumulative returns at 30 years for the 10th, 50th, and 90th percentiles?"
   ]
  },
  {
   "cell_type": "code",
   "execution_count": 30,
   "metadata": {},
   "outputs": [
    {
     "data": {
      "text/plain": [
       "0.1    123.840374\n",
       "0.5    202.620688\n",
       "0.9    320.696010\n",
       "Name: 7560, dtype: float64"
      ]
     },
     "execution_count": 30,
     "metadata": {},
     "output_type": "execute_result"
    }
   ],
   "source": [
    "# Compute cumulative returns\n",
    "projeccted_return = last_ret.quantile(q = (0.1,0.5,0.9))\n",
    "projeccted_return"
   ]
  },
  {
   "cell_type": "markdown",
   "metadata": {},
   "source": [
    "### Given an initial investment of `$20,000`, what is the expected portfolio return in dollars at the 10th, 50th, and 90th percentiles?"
   ]
  },
  {
   "cell_type": "code",
   "execution_count": 31,
   "metadata": {},
   "outputs": [
    {
     "name": "stdout",
     "output_type": "stream",
     "text": [
      "0.1    2.476807e+06\n",
      "0.5    4.052414e+06\n",
      "0.9    6.413920e+06\n",
      "Name: 7560, dtype: float64\n"
     ]
    }
   ],
   "source": [
    "# Set initial investment\n",
    "inc = 20000\n",
    "# Compute expected portfolio return\n",
    "portfolio_return = inc * projeccted_return\n",
    "print(portfolio_return)"
   ]
  },
  {
   "cell_type": "markdown",
   "metadata": {},
   "source": [
    "### Given the current projected annual income from the Plaid analysis, will a 4% withdraw rate from the retirement portfolio meet or exceed that value at the 10th percentile?\n",
    "\n",
    "Note: This is effectively saying that 90% of the expected returns will be greater than the return at the 10th percentile, so this can help measure the uncertainty about having enough funds at retirement"
   ]
  },
  {
   "cell_type": "code",
   "execution_count": 41,
   "metadata": {},
   "outputs": [
    {
     "name": "stdout",
     "output_type": "stream",
     "text": [
      "False\n"
     ]
    }
   ],
   "source": [
    "# Set Plaid's projected income\n",
    "plaid_income = inc * (1.04)**30\n",
    "# Calculate the 4% withdrawal for the ending return as retirement income\n",
    "retie_income  = portfolio_return[0.1]\n",
    "# Determine if the retirement income meets or exceeds the current projected income\n",
    "print(plaid_income > retie_income)"
   ]
  },
  {
   "cell_type": "markdown",
   "metadata": {},
   "source": [
    "### How would a 50% increase in the initial investment amount affect the 4% retirement withdrawal?"
   ]
  },
  {
   "cell_type": "code",
   "execution_count": 42,
   "metadata": {},
   "outputs": [
    {
     "name": "stdout",
     "output_type": "stream",
     "text": [
      "97301.92530082625\n"
     ]
    }
   ],
   "source": [
    "# Re-calculate the retirement income with a 50% increase in the initial investment amount\n",
    "plaid_income_new = inc*1.5 * (1.04)**30\n",
    "print(plaid_income_new)"
   ]
  },
  {
   "cell_type": "markdown",
   "metadata": {},
   "source": [
    "### Optional Challenge\n",
    "\n",
    "Use the Monte Carlo data and calculate the cumulative returns at the `5%`, `50%`, and `95%` quartiles and plot this data as a line chart to see how the cumulative returns change over the life of the investment.\n",
    "\n",
    "In this section, you need to calculate and plot the cumulative returns for the median and `90%` confidence intervals. This plot shows the expected cumulative returns for any given day between the first day and the last day of investment. "
   ]
  },
  {
   "cell_type": "code",
   "execution_count": null,
   "metadata": {},
   "outputs": [],
   "source": [
    "# Compute projected returns\n",
    "\n",
    "# Display sample data\n"
   ]
  },
  {
   "cell_type": "code",
   "execution_count": null,
   "metadata": {},
   "outputs": [],
   "source": [
    "# Plot the cumulative returns over time\n"
   ]
  },
  {
   "cell_type": "code",
   "execution_count": null,
   "metadata": {},
   "outputs": [],
   "source": [
    "# Compute portfolio performance over time\n",
    "\n",
    "# Plot projected performance over time\n"
   ]
  }
 ],
 "metadata": {
  "kernelspec": {
   "display_name": "Python 3",
   "language": "python",
   "name": "python3"
  },
  "language_info": {
   "codemirror_mode": {
    "name": "ipython",
    "version": 3
   },
   "file_extension": ".py",
   "mimetype": "text/x-python",
   "name": "python",
   "nbconvert_exporter": "python",
   "pygments_lexer": "ipython3",
   "version": "3.7.6"
  }
 },
 "nbformat": 4,
 "nbformat_minor": 4
}
